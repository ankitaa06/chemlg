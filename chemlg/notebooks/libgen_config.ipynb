{
 "cells": [
  {
   "cell_type": "code",
   "execution_count": 1,
   "metadata": {
    "scrolled": true
   },
   "outputs": [
    {
     "data": {
      "text/html": [
       "<style>\n",
       "div.input {\n",
       "    display:none;\n",
       "}\n",
       "</style>\n"
      ],
      "text/plain": [
       "<IPython.core.display.HTML object>"
      ]
     },
     "metadata": {},
     "output_type": "display_data"
    }
   ],
   "source": [
    "%%html\n",
    "<style>\n",
    "div.input {\n",
    "    display:none;\n",
    "}\n",
    "</style>"
   ]
  },
  {
   "cell_type": "code",
   "execution_count": 2,
   "metadata": {
    "scrolled": true
   },
   "outputs": [],
   "source": [
    "import rdkit\n",
    "from main import GUI_2\n",
    "\n",
    "from ipywidgets import interact, Layout\n",
    "import ipywidgets as widgets\n",
    "from IPython.display import display, clear_output, Javascript\n",
    "\n",
    "from rdkit import Chem\n",
    "from rdkit.Chem.Draw import IPythonConsole\n",
    "\n",
    "style = {'description_width': 'initial','font_weight':'bold'}\n",
    "count =0\n",
    "BB_list=[]\n",
    "smiles=[]"
   ]
  },
  {
   "cell_type": "code",
   "execution_count": 3,
   "metadata": {
    "code_folding": [],
    "scrolled": true
   },
   "outputs": [
    {
     "data": {
      "application/vnd.jupyter.widget-view+json": {
       "model_id": "3c70d00586f1406b82d87992e3c5940e",
       "version_major": 2,
       "version_minor": 0
      },
      "text/plain": [
       "HTML(value='<font color=crimson><font size=5><b><u>BUILDING BLOCKS</font>')"
      ]
     },
     "metadata": {},
     "output_type": "display_data"
    },
    {
     "data": {
      "application/vnd.jupyter.widget-view+json": {
       "model_id": "97bfadfc60b2472080a66f2ab0956142",
       "version_major": 2,
       "version_minor": 0
      },
      "text/plain": [
       "Tab(children=(VBox(children=(HTML(value='<font size=3>Create a building blocks file by entering individual/com…"
      ]
     },
     "metadata": {},
     "output_type": "display_data"
    }
   ],
   "source": [
    "import pybel\n",
    "style = {'description_width': 'initial','font_weight':'bold'}\n",
    "space_box = widgets.Box(layout=widgets.Layout(height ='20px', width='90%')) \n",
    "display(widgets.HTML(value=\"<font color=crimson><font size=5><b><u>BUILDING BLOCKS</font>\"))\n",
    "second=widgets.Button(description='Next section',layout= Layout(width= 'auto',border='solid 1px black'),style=style)    \n",
    "third=widgets.Button(description='Next section',layout= Layout(width= 'auto',border='solid 1px black'),style=style)    \n",
    "         \n",
    "\n",
    "name=widgets.Text(description=\"File name\",placeholder=\"Type the file to be imported\",style=style)\n",
    "     \n",
    "enter=widgets.Button(description='Upload file',layout= Layout(width='30%',border='solid 1px black'),style=style)\n",
    "BB=widgets.Text(description='Building Blocks',style=style) \n",
    "another=widgets.Button(description='Add building block', layout= Layout(width= '45%',border='solid 1px black'),style=style)\n",
    "existing_file_intro = widgets.HTML(\"\"\"<font size=3>Upload a file containing all the building blocks\"\"\",\n",
    "    layout = widgets.Layout(height = '60px', width = '90%',\n",
    "                    size = '20'))\n",
    "existing_filebox = widgets.VBox(children=[existing_file_intro,space_box,name,space_box,enter] )\n",
    "type_smiles=widgets.Button(description='Individual SMILES input',layout= Layout(width= '120%',border='solid 1px black'),style=style)\n",
    "type_smiles_intro = widgets.HTML(\"\"\"<font size=3>Create a building blocks file by entering individual/comma separated SMILES of each building block.\"\"\",\n",
    "        layout = widgets.Layout(height = '55px', width = '90%',\n",
    "                    size = '20'))\n",
    "\n",
    "def on_proceed(e):\n",
    "    o=name.value\n",
    "    \n",
    "    \n",
    "    try:\n",
    "        existing= open(o,\"r\")\n",
    "        c=existing.readlines()[1:]\n",
    "       \n",
    "        for line in c:\n",
    "            \n",
    "            smiles.append(line)\n",
    "            \n",
    "            try:\n",
    "                mol=pybel.readstring(\"smi\",line)\n",
    "                correct=widgets.HTML(\"\"\"<font size=3>The file has been uploaded successfully\"\"\",\n",
    "        layout = widgets.Layout(height = '85px', width = '90%',\n",
    "                    size = '20'))\n",
    "                display(Javascript('IPython.notebook.execute_cells([4])'))\n",
    "            except:\n",
    "                incorrect= widgets.HTML(line +\" in file is a incorrect SMILE\")\n",
    "                display(incorrect)\n",
    "    except:\n",
    "        print(\"The building blocks file does not exist\")\n",
    "       \n",
    "enter.on_click(on_proceed)    \n",
    "  \n",
    "BB_list=[]\n",
    "    \n",
    "   \n",
    "        \n",
    "        \n",
    "def on_another_clicked(i):\n",
    "    z=BB.value\n",
    "    z=str(z)\n",
    "    f=z.split(',')\n",
    "    for element in f:\n",
    "        \n",
    "        try:\n",
    "            mol=pybel.readstring(\"smi\",element)\n",
    "            BB_list.append(element)\n",
    "            \n",
    "        except:\n",
    "                \n",
    "            print(\"You typed a wrong SMILES \"+element)\n",
    "            \n",
    "    BB.value=\"\"\n",
    "        \n",
    "final_BB=widgets.Button( description='Create building blocks file',layout= Layout(width= '45%',border='solid 1px black'),style=style)\n",
    "    \n",
    "def on_button_clicked(d):\n",
    "    display(Javascript('IPython.notebook.execute_cells([3])'))\n",
    "    building_blocks= open(\"building_blocks.dat\", \"w\")\n",
    "    \n",
    "    building_blocks.write('Building blocks are:'+'\\n')\n",
    "    for h in range(len(BB_list)):\n",
    "        \n",
    "        building_blocks.write(BB_list[h] +'\\n')\n",
    "        \n",
    "    building_blocks.close()\n",
    "def on_visualization_clicked(t):\n",
    "    display(Javascript('IPython.notebook.execute_cells([3])'))\n",
    "    \n",
    "visualize=widgets.Button(description='Visualize',layout= Layout(width= '45%',border='solid 1px black'),style=style)\n",
    "    \n",
    "    \n",
    "visualize.on_click(on_visualization_clicked)    \n",
    "final_BB.on_click(on_button_clicked)\n",
    "another.on_click(on_another_clicked)\n",
    "type_smilesbox = widgets.VBox(children=[type_smiles_intro,BB,space_box,another,final_BB\n",
    "                                ])\n",
    "tab1 = widgets.Tab(\n",
    "        children=[type_smilesbox,existing_filebox],style=style)\n",
    "tab1.set_title(0, ' Individual SMILES')\n",
    "tab1.set_title(1, 'Upload file')\n",
    "display (tab1)\n",
    "   "
   ]
  },
  {
   "cell_type": "code",
   "execution_count": 4,
   "metadata": {
    "scrolled": true
   },
   "outputs": [],
   "source": [
    "global BB_list\n",
    "\n",
    "\n",
    "clear_output()\n",
    "\n",
    "if len(BB_list)>0:\n",
    "    try:\n",
    "        mol_list = [Chem.MolFromSmiles(smiles) for smiles in BB_list]\n",
    "        [mol.SetProp('_Name', 'B'+str(i)) for i,mol in enumerate(mol_list)]\n",
    "        ibu=Chem.Draw.MolsToGridImage(mol_list,legends=[mol.GetProp('_Name') for mol in mol_list])\n",
    "        display(ibu)\n",
    "    except:\n",
    "        print(\"You entered a wrong smile. Unable to visualize smile\")\n",
    "\n",
    "            \n",
    "\n"
   ]
  },
  {
   "cell_type": "code",
   "execution_count": 5,
   "metadata": {
    "scrolled": true
   },
   "outputs": [],
   "source": [
    "global smiles\n",
    "clear_output()\n",
    "if len(smiles)>0:\n",
    "    mol_lists = [Chem.MolFromSmiles(smile) for smile in smiles]\n",
    "    [mol.SetProp('_Name', 'B'+str(i)) for i,mol in enumerate(mol_lists)]\n",
    "    ibu1=Chem.Draw.MolsToGridImage(mol_lists,legends=[mol.GetProp('_Name') for mol in mol_lists])\n",
    "    display(ibu1)\n"
   ]
  },
  {
   "cell_type": "code",
   "execution_count": 6,
   "metadata": {},
   "outputs": [
    {
     "data": {
      "application/vnd.jupyter.widget-view+json": {
       "model_id": "1d6062f7dce249ef95e8ae7cdc02b8ef",
       "version_major": 2,
       "version_minor": 0
      },
      "text/plain": [
       "Button(description='Next section', layout=Layout(border='solid 1px black', width='auto'), style=ButtonStyle(fo…"
      ]
     },
     "metadata": {},
     "output_type": "display_data"
    }
   ],
   "source": [
    "GUI_2()"
   ]
  },
  {
   "cell_type": "code",
   "execution_count": null,
   "metadata": {
    "scrolled": true
   },
   "outputs": [],
   "source": []
  },
  {
   "cell_type": "code",
   "execution_count": null,
   "metadata": {
    "scrolled": true
   },
   "outputs": [],
   "source": []
  },
  {
   "cell_type": "code",
   "execution_count": null,
   "metadata": {
    "scrolled": true
   },
   "outputs": [],
   "source": []
  }
 ],
 "metadata": {
  "kernelspec": {
   "display_name": "chemlg",
   "language": "python",
   "name": "chemlg"
  },
  "language_info": {
   "codemirror_mode": {
    "name": "ipython",
    "version": 3
   },
   "file_extension": ".py",
   "mimetype": "text/x-python",
   "name": "python",
   "nbconvert_exporter": "python",
   "pygments_lexer": "ipython3",
   "version": "3.6.6"
  }
 },
 "nbformat": 4,
 "nbformat_minor": 2
}
