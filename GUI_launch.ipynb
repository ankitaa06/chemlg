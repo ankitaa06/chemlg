{
 "cells": [
  {
   "cell_type": "code",
   "execution_count": null,
   "metadata": {},
   "outputs": [],
   "source": [
    "%%html\n",
    "<style>\n",
    "div.input {\n",
    "    display:none;\n",
    "}\n",
    "</style>"
   ]
  },
  {
   "cell_type": "code",
   "execution_count": 1,
   "metadata": {},
   "outputs": [],
   "source": [
    "import rdkit\n",
    "from GUIMAIN import GUI_2\n",
    "\n",
    "from ipywidgets import interact, Layout\n",
    "import ipywidgets as widgets\n",
    "from IPython.display import display, clear_output, Javascript\n",
    "\n",
    "from rdkit import Chem\n",
    "from rdkit.Chem.Draw import IPythonConsole\n",
    "\n",
    "style = {'description_width': 'initial','font_weight':'bold'}\n",
    "count =0\n",
    "BB_list=[]\n",
    "smiles=[]"
   ]
  },
  {
   "cell_type": "code",
   "execution_count": 4,
   "metadata": {
    "code_folding": []
   },
   "outputs": [
    {
     "data": {
      "application/vnd.jupyter.widget-view+json": {
       "model_id": "91f0128550ba42f1896acaf734a4298e",
       "version_major": 2,
       "version_minor": 0
      },
      "text/plain": [
       "HTML(value='<font color=crimson><font size=5><b><u>SECTION 1: BUILDING BLOCKS</font>')"
      ]
     },
     "metadata": {},
     "output_type": "display_data"
    },
    {
     "data": {
      "application/vnd.jupyter.widget-view+json": {
       "model_id": "ec237c2cce66438cb3574ef1afad70bd",
       "version_major": 2,
       "version_minor": 0
      },
      "text/plain": [
       "Tab(children=(VBox(children=(HTML(value=\"<font size=3>The user can type in single SMILES of a molecules or can…"
      ]
     },
     "metadata": {},
     "output_type": "display_data"
    }
   ],
   "source": [
    "import pybel\n",
    "style = {'description_width': 'initial','font_weight':'bold'}\n",
    "space_box = widgets.Box(layout=widgets.Layout(height ='55px', width='90%')) \n",
    "display(widgets.HTML(value=\"<font color=crimson><font size=5><b><u>SECTION 1: BUILDING BLOCKS</font>\"))\n",
    "second=widgets.Button(description='Proceed to the next section',layout= Layout(width= 'auto',border='solid 1px black'),style=style)    \n",
    "third=widgets.Button(description='Proceed to the next section',layout= Layout(width= 'auto',border='solid 1px black'),style=style)    \n",
    "         \n",
    "\n",
    "name=widgets.Text(description=\"File name\",placeholder=\"Type the file to be imported\",style=style)\n",
    "     \n",
    "enter=widgets.Button(description='Upload file',layout= Layout(width='30%',border='solid 1px black'),style=style)\n",
    "BB=widgets.Text(description='Type building blocks',style=style) \n",
    "another=widgets. Button(description='Add building block', layout= Layout(width= '45%',border='solid 1px black'),style=style)\n",
    "existing_file_intro = widgets.HTML(\"\"\"<font size=3>This the Building blocks section wherein the user can enter the building blocks by uploading an existing building blocks file or create a building blocks file by entering the SMILES of each building block\"\"\",\n",
    "    layout = widgets.Layout(height = '60px', width = '90%',\n",
    "                    size = '20'))\n",
    "existing_filebox = widgets.VBox(children=[existing_file_intro,space_box,name,space_box,enter]\n",
    "                                )\n",
    "type_smiles=widgets.Button(description='Type smiles',layout= Layout(width= '45%',border='solid 1px black'),style=style)\n",
    "type_smiles_intro = widgets.HTML(\"\"\"<font size=3>The user can type in single SMILES of a molecules or can enter multiple SMILES separated by a <b> ','</b> . The user can visualize the smiles after additon of building blocks in the building blocks file in one attempt and click on the add building blocks button and after all the building blocks have been added the user can create the building blocks file by clicking and the create building block button and proceed to the next section\"\"\",\n",
    "        layout = widgets.Layout(height = '85px', width = '90%',\n",
    "                    size = '20'))\n",
    "\n",
    "def on_proceed(e):\n",
    "    o=name.value\n",
    "    \n",
    "    \n",
    "    try:\n",
    "        existing= open(o,\"r\")\n",
    "        c=existing.readlines()[1:]\n",
    "       \n",
    "        for line in c:\n",
    "            line=line.upper()\n",
    "            smiles.append(line)\n",
    "            \n",
    "            try:\n",
    "                mol=pybel.readstring(\"smi\",line)\n",
    "                correct=widgets.HTML(\"\"\"<font size=3>The file has been uploaded successfully\"\"\",\n",
    "        layout = widgets.Layout(height = '85px', width = '90%',\n",
    "                    size = '20'))\n",
    "                display(Javascript('IPython.notebook.execute_cells([4])'))\n",
    "            except:\n",
    "                incorrect= widgets.HTML(line +\" in file is a incorrect SMILE\")\n",
    "                display(incorrect)\n",
    "    except:\n",
    "        print(\"The Building Blocks file does not exist\")\n",
    "       \n",
    "enter.on_click(on_proceed)    \n",
    "  \n",
    "BB_list=[]\n",
    "    \n",
    "   \n",
    "        \n",
    "        \n",
    "def on_another_clicked(i):\n",
    "    display(Javascript('IPython.notebook.execute_cells([3])'))\n",
    "    z=BB.value\n",
    "    z=str(z)\n",
    "    f=z.split(',')\n",
    "    for element in f:\n",
    "        element=element.upper()\n",
    "        try:\n",
    "            mol=pybel.readstring(\"smi\",element)\n",
    "            BB_list.append(element)\n",
    "            \n",
    "        except:\n",
    "                \n",
    "            print(\"You typed a wrong SMILES \"+element)\n",
    "            \n",
    "BB.value=\"\"\n",
    "        \n",
    "final_BB=widgets.Button( description='Create Building Blocks file',layout= Layout(width= '45%',border='solid 1px black'),style=style)\n",
    "    \n",
    "def on_button_clicked(d):\n",
    "    display(Javascript('IPython.notebook.execute_cells([3])'))\n",
    "    building_blocks= open(\"building_blocks.dat\", \"w+\")\n",
    "    \n",
    "    building_blocks.write('Building blocks are:'+'\\n')\n",
    "    for h in range(len(BB_list)):\n",
    "        \n",
    "        building_blocks.write(BB_list[h] +'\\n')\n",
    "        \n",
    "    building_blocks.close()\n",
    "    \n",
    "    \n",
    "final_BB.on_click(on_button_clicked)\n",
    "another.on_click(on_another_clicked)\n",
    "type_smilesbox = widgets.VBox(children=[type_smiles_intro,space_box,BB,space_box,another,final_BB\n",
    "                                ])\n",
    "tab1 = widgets.Tab(\n",
    "        children=[type_smilesbox,existing_filebox],style=style)\n",
    "tab1.set_title(0, 'Type smiles')\n",
    "tab1.set_title(1, 'Upload file')\n",
    "display (tab1)\n",
    "   "
   ]
  },
  {
   "cell_type": "code",
   "execution_count": null,
   "metadata": {
    "scrolled": false
   },
   "outputs": [],
   "source": [
    "global BB_list\n",
    "\n",
    "\n",
    "clear_output()\n",
    "\n",
    "if len(BB_list)>0:\n",
    "    mol_list = [Chem.MolFromSmiles(smiles) for smiles in BB_list]\n",
    "    [mol.SetProp('_Name', 'B'+str(i)) for i,mol in enumerate(mol_list)]\n",
    "    ibu=Chem.Draw.MolsToGridImage(mol_list,legends=[mol.GetProp('_Name') for mol in mol_list])\n",
    "    display(ibu)\n",
    "\n",
    "            \n",
    "\n"
   ]
  },
  {
   "cell_type": "code",
   "execution_count": null,
   "metadata": {},
   "outputs": [],
   "source": [
    "global smiles\n",
    "clear_output()\n",
    "if len(smiles)>0:\n",
    "    mol_lists = [Chem.MolFromSmiles(smile) for smile in smiles]\n",
    "    [mol.SetProp('_Name', 'B'+str(i)) for i,mol in enumerate(mol_lists)]\n",
    "    ibu1=Chem.Draw.MolsToGridImage(mol_lists,legends=[mol.GetProp('_Name') for mol in mol_lists])\n",
    "    display(ibu1)\n"
   ]
  },
  {
   "cell_type": "code",
   "execution_count": 2,
   "metadata": {},
   "outputs": [
    {
     "data": {
      "application/vnd.jupyter.widget-view+json": {
       "model_id": "42fef1c9699946ae97c0d6860773f498",
       "version_major": 2,
       "version_minor": 0
      },
      "text/plain": [
       "Button(description='Proceed to the next section', layout=Layout(border='solid 1px black', width='auto'), style…"
      ]
     },
     "metadata": {},
     "output_type": "display_data"
    },
    {
     "data": {
      "application/vnd.jupyter.widget-view+json": {
       "model_id": "86801446654543469f9678070fcb5598",
       "version_major": 2,
       "version_minor": 0
      },
      "text/plain": [
       "HTML(value='<font color=crimson><font size=5><b><u>SECTION 2: GENERATION RULES</font>')"
      ]
     },
     "metadata": {},
     "output_type": "display_data"
    },
    {
     "data": {
      "application/vnd.jupyter.widget-view+json": {
       "model_id": "b8a169fd93144cee963642a5a9040174",
       "version_major": 2,
       "version_minor": 0
      },
      "text/plain": [
       "Accordion(children=(VBox(children=(HTML(value='Specify the building blocks which must be present in all the mo…"
      ]
     },
     "metadata": {},
     "output_type": "display_data"
    },
    {
     "data": {
      "application/vnd.jupyter.widget-view+json": {
       "model_id": "fb5ca1f82a4f400ba49802bd9b596524",
       "version_major": 2,
       "version_minor": 0
      },
      "text/plain": [
       "Button(description='Generate rules file', layout=Layout(border='solid 1px black'), style=ButtonStyle())"
      ]
     },
     "metadata": {},
     "output_type": "display_data"
    },
    {
     "data": {
      "application/vnd.jupyter.widget-view+json": {
       "model_id": "4a2b1f6ceb8f4d6db73403bf2e5fb3f3",
       "version_major": 2,
       "version_minor": 0
      },
      "text/plain": [
       "HTML(value='<font size=3>Generation rules file created', layout=Layout(height='60px', width='90%'))"
      ]
     },
     "metadata": {},
     "output_type": "display_data"
    },
    {
     "data": {
      "application/vnd.jupyter.widget-view+json": {
       "model_id": "5c380b2e56fe425591130ea2900e18d2",
       "version_major": 2,
       "version_minor": 0
      },
      "text/plain": [
       "Button(description='Proceed to the next section', layout=Layout(border='solid 1px black', width='auto'), style…"
      ]
     },
     "metadata": {},
     "output_type": "display_data"
    }
   ],
   "source": [
    "GUI_2()"
   ]
  },
  {
   "cell_type": "code",
   "execution_count": null,
   "metadata": {},
   "outputs": [],
   "source": []
  },
  {
   "cell_type": "code",
   "execution_count": null,
   "metadata": {},
   "outputs": [],
   "source": []
  },
  {
   "cell_type": "code",
   "execution_count": null,
   "metadata": {},
   "outputs": [],
   "source": []
  },
  {
   "cell_type": "code",
   "execution_count": null,
   "metadata": {},
   "outputs": [],
   "source": []
  }
 ],
 "metadata": {
  "kernelspec": {
   "display_name": "RDKIT",
   "language": "python",
   "name": "my-rdkit-env"
  },
  "language_info": {
   "codemirror_mode": {
    "name": "ipython",
    "version": 3
   },
   "file_extension": ".py",
   "mimetype": "text/x-python",
   "name": "python",
   "nbconvert_exporter": "python",
   "pygments_lexer": "ipython3",
   "version": "3.6.5"
  }
 },
 "nbformat": 4,
 "nbformat_minor": 2
}
