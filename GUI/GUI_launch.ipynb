{
 "cells": [
  {
   "cell_type": "code",
   "execution_count": null,
   "metadata": {},
   "outputs": [],
   "source": [
    "%%html\n",
    "<style>\n",
    "div.input {\n",
    "    display:none;\n",
    "}\n",
    "</style>"
   ]
  },
  {
   "cell_type": "code",
   "execution_count": null,
   "metadata": {},
   "outputs": [],
   "source": [
    "import rdkit\n",
    "from GUIMAIN import GUI_2\n",
    "\n",
    "from ipywidgets import interact, Layout\n",
    "import ipywidgets as widgets\n",
    "from IPython.display import display, clear_output, Javascript\n",
    "\n",
    "from rdkit import Chem\n",
    "from rdkit.Chem.Draw import IPythonConsole\n",
    "\n",
    "style = {'description_width': 'initial'}\n",
    "count =0\n",
    "BB_list=[]"
   ]
  },
  {
   "cell_type": "code",
   "execution_count": null,
   "metadata": {
    "scrolled": false
   },
   "outputs": [],
   "source": [
    "while True:\n",
    "    global BB_list\n",
    "    style = {'description_width': 'initial'}\n",
    "\n",
    "    BB = widgets.Text(\n",
    "        placeholder='Type the SMILES of building block',\n",
    "        description='Building block:',style=style,\n",
    "         )\n",
    "    display(BB)\n",
    "    button = widgets.Button(description=\"Add the building block\")\n",
    "    display(button)\n",
    "    BB_dis = widgets.HTML(\n",
    "        description='Building blocks added:',style=style,\n",
    "        )\n",
    "    display(BB_dis)\n",
    "\n",
    "    def on_button_clicked(b):\n",
    "        global count, BB_list\n",
    "        count=count+1\n",
    "        display(Javascript('IPython.notebook.execute_cells([3])'))\n",
    "        if count>0:\n",
    "            BB_list.append(BB.value)\n",
    "            building_blocks2=open(\"building_blocks.txt\",\"a+\")\n",
    "            building_blocks2.write(BB.value + '\\n')\n",
    "            building_blocks2.close()\n",
    "            BB_dis.value = str(BB_list)\n",
    "\n",
    "        else:\n",
    "            building_blocks1 = open(\"building_blocks.txt\", \"w+\")\n",
    "            building_blocks1.write('Building blocks are:' + '\\n' + BB.value + '\\n')\n",
    "            building_blocks1.close()\n",
    "            count=2\n",
    " \n",
    "    button.on_click(on_button_clicked)    \n",
    "    break\n",
    "    \n"
   ]
  },
  {
   "cell_type": "code",
   "execution_count": null,
   "metadata": {},
   "outputs": [],
   "source": [
    "if len(BB_list)>0:\n",
    "    clear_output()\n",
    "    mol_list = [Chem.MolFromSmiles(smiles) for smiles in BB_list]\n",
    "    [mol.SetProp('_Name', 'F'+str(i+1)) for i,mol in enumerate(mol_list)]\n",
    "    ibu=Chem.Draw.MolsToGridImage(mol_list,legends=[mol.GetProp('_Name') for mol in mol_list])\n",
    "    display(ibu)"
   ]
  },
  {
   "cell_type": "code",
   "execution_count": null,
   "metadata": {
    "scrolled": false
   },
   "outputs": [],
   "source": [
    "while True:\n",
    "    \n",
    "    global BB_list\n",
    "    button_BB_dis = widgets.Button(description=\"Visualize building block\")\n",
    "    display(button_BB_dis)\n",
    "\n",
    "    def on_dis_bb_clicked(b):\n",
    "        global BB_list\n",
    "        clear_output()\n",
    "        button_BB_dis = widgets.Button(description=\"Visualize building block\", layout=Layout(width='auto'))\n",
    "        display(button_BB_dis)\n",
    "        mol_list = [Chem.MolFromSmiles(smiles) for smiles in BB_list]\n",
    "        [mol.SetProp('_Name', 'B'+str(i)) for i,mol in enumerate(mol_list)]\n",
    "        ibu=Chem.Draw.MolsToGridImage(mol_list,legends=[mol.GetProp('_Name') for mol in mol_list])\n",
    "        display(ibu)\n",
    "\n",
    "            \n",
    "    button_BB_dis.on_click(on_dis_bb_clicked)\n",
    "    break"
   ]
  },
  {
   "cell_type": "code",
   "execution_count": null,
   "metadata": {},
   "outputs": [],
   "source": [
    "GUI_2()"
   ]
  },
  {
   "cell_type": "code",
   "execution_count": null,
   "metadata": {},
   "outputs": [],
   "source": []
  }
 ],
 "metadata": {
  "kernelspec": {
   "display_name": "Python [default]",
   "language": "python",
   "name": "python2"
  },
  "language_info": {
   "codemirror_mode": {
    "name": "ipython",
    "version": 2
   },
   "file_extension": ".py",
   "mimetype": "text/x-python",
   "name": "python",
   "nbconvert_exporter": "python",
   "pygments_lexer": "ipython2",
   "version": "2.7.14"
  }
 },
 "nbformat": 4,
 "nbformat_minor": 2
}
